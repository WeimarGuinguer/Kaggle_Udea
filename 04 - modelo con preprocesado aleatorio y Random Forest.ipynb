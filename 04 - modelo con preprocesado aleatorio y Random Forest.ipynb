{
  "cells": [
    {
      "cell_type": "markdown",
      "metadata": {
        "id": "XOmrdsQH0BCX"
      },
      "source": [
        "#**Imputar preprocesado de forma aleatoria y  Random Forest**\n",
        "Se reemplazar los datos de forma aleatoria por un dato existente en la columna y se utiliza Random Forest para predecir"
      ]
    },
    {
      "cell_type": "markdown",
      "metadata": {
        "id": "CsNw37pZ0lvW"
      },
      "source": [
        "# **IMPORTACIÓN**\n",
        "\n",
        "Se importan cada una de las librerias que se utilizaran"
      ]
    },
    {
      "cell_type": "code",
      "execution_count": 1,
      "metadata": {
        "id": "n4obnFrg0rDW"
      },
      "outputs": [],
      "source": [
        "import pandas as pd\n",
        "import numpy as np\n",
        "import matplotlib.pyplot as plt\n",
        "import seaborn as sns\n",
        "from sklearn.preprocessing import LabelEncoder\n",
        "from sklearn.ensemble import RandomForestClassifier"
      ]
    },
    {
      "cell_type": "markdown",
      "metadata": {
        "id": "8hIbOi190uxA"
      },
      "source": [
        "# **Drive**\n",
        "\n",
        "Se conecta al drive para leer el archivo desde alli"
      ]
    },
    {
      "cell_type": "code",
      "execution_count": 2,
      "metadata": {
        "colab": {
          "base_uri": "https://localhost:8080/"
        },
        "id": "LrHvmKqY02Dt",
        "outputId": "ae0078e3-67c1-4903-eab3-6383722b3a5e"
      },
      "outputs": [
        {
          "output_type": "stream",
          "name": "stdout",
          "text": [
            "Mounted at /content/drive\n"
          ]
        }
      ],
      "source": [
        "from google.colab import drive\n",
        "drive.mount('/content/drive')\n",
        "\n",
        "#url del archivo\n",
        "url_train_file = '/content/drive/MyDrive/Colab Notebooks/train.csv'\n",
        "url_test_file = '/content/drive/MyDrive/Colab Notebooks/test.csv'\n",
        "#df = pd.read_csv(url_train_file)"
      ]
    },
    {
      "cell_type": "code",
      "execution_count": 3,
      "metadata": {
        "id": "YcTl3Tk9mxO6"
      },
      "outputs": [],
      "source": [
        "df_train = pd.read_csv(url_train_file)\n",
        "df_test = pd.read_csv(url_test_file)"
      ]
    },
    {
      "cell_type": "markdown",
      "source": [
        "#**Función para reemplazar los datos**\n",
        "\n",
        "Recibe el dataframe y en nombre de la columna a la cual se va a reemplazar y para todos los valores nulos los reemplaza por un valor aleatoria de la misma columna"
      ],
      "metadata": {
        "id": "xuHEDvY6FmIe"
      }
    },
    {
      "cell_type": "code",
      "execution_count": 4,
      "metadata": {
        "id": "WuIA2SQUBWUw"
      },
      "outputs": [],
      "source": [
        "# Función para reemplazar valores nulos con valores aleatorios de la misma columna\n",
        "def fill_na_with_random_value(df, column):\n",
        "    non_null_values = df[column].dropna().values\n",
        "    df[column] = df[column].apply(lambda x: np.random.choice(non_null_values) if pd.isna(x) else x)\n"
      ]
    },
    {
      "cell_type": "markdown",
      "source": [
        "#**Funcion clean_data**\n",
        "\n",
        "\n",
        "1.   Se eliminan las columnas no necesarias o repetidas\n",
        "2.   Se reemplazan los datos faltantes de forma aleatoria\n",
        "1.   Se normalizan los valores en varias columnas\n",
        "2.   Se hace una normalización especifica pala la columna ESTU_PRGM_ACADEMICO\n",
        "\n",
        "\n",
        "\n"
      ],
      "metadata": {
        "id": "AiHrx933iZFJ"
      }
    },
    {
      "cell_type": "code",
      "source": [
        "def clean_data(df):\n",
        "  #elimición de columnas\n",
        "  df = df.drop('ESTU_PRIVADO_LIBERTAD', axis=1)\n",
        "  df = df.drop('FAMI_TIENEINTERNET.1', axis=1)\n",
        "\n",
        "  columnas_con_nulos = df.columns[df.isnull().any()].tolist()\n",
        "\n",
        "  for col in columnas_con_nulos:\n",
        "    fill_na_with_random_value(df, col)\n",
        "\n",
        "  #normalización de valores\n",
        "  df['FAMI_ESTRATOVIVIENDA'].replace(['Estrato 1','Estrato 2','Estrato 3','Estrato 4','Estrato 5','Estrato 6','Sin Estrato'],[1,2,3,4,5,6,0],inplace=True)\n",
        "  #df['RENDIMIENTO_GLOBAL'].replace(['bajo','medio-bajo','medio-alto','alto'],[1,2,3,4],inplace=True)\n",
        "\n",
        "  df[\"FAMI_TIENEINTERNET\"] = df[\"FAMI_TIENEINTERNET\"].replace({'Si': 1, 'No': 0})\n",
        "  df[\"FAMI_TIENELAVADORA\"] = df[\"FAMI_TIENELAVADORA\"].replace({'Si': 1, 'No': 0})\n",
        "  df[\"FAMI_TIENEAUTOMOVIL\"] = df[\"FAMI_TIENEAUTOMOVIL\"].replace({'Si': 1, 'No': 0})\n",
        "  df[\"ESTU_PAGOMATRICULAPROPIO\"] = df[\"ESTU_PAGOMATRICULAPROPIO\"].replace({'Si': 1, 'No': 0})\n",
        "  df[\"FAMI_TIENECOMPUTADOR\"] = df[\"FAMI_TIENECOMPUTADOR\"].replace({'Si': 1, 'No': 0})\n",
        "\n",
        "  df['ESTU_VALORMATRICULAUNIVERSIDAD'].replace(['No pagó matrícula'],[0],inplace=True)\n",
        "  df['ESTU_VALORMATRICULAUNIVERSIDAD'].replace(['Menos de 500 mil'],[1],inplace=True)\n",
        "  df['ESTU_VALORMATRICULAUNIVERSIDAD'].replace(['Entre 500 mil y menos de 1 millón'],[2],inplace=True)\n",
        "  df['ESTU_VALORMATRICULAUNIVERSIDAD'].replace(['Entre 1 millón y menos de 2.5 millones'],[3],inplace=True)\n",
        "  df['ESTU_VALORMATRICULAUNIVERSIDAD'].replace(['Entre 2.5 millones y menos de 4 millones'],[4],inplace=True)\n",
        "  df['ESTU_VALORMATRICULAUNIVERSIDAD'].replace(['Entre 4 millones y menos de 5.5 millones'],[5],inplace=True)\n",
        "  df['ESTU_VALORMATRICULAUNIVERSIDAD'].replace(['Entre 5.5 millones y menos de 7 millones'],[6],inplace=True)\n",
        "  df['ESTU_VALORMATRICULAUNIVERSIDAD'].replace(['Más de 7 millones'],[7],inplace=True)\n",
        "\n",
        "  df['ESTU_HORASSEMANATRABAJA'].replace(['0','Menos de 10 horas','Entre 11 y 20 horas','Entre 21 y 30 horas','Más de 30 horas'],[0,1,2,3,4],inplace=True)\n",
        "\n",
        "\n",
        "  df['ESTU_PRGM_ACADEMICO'] = df['ESTU_PRGM_ACADEMICO'].str.replace('PROFESIONAL EN ', '')\n",
        "\n",
        "  #df['ESTU_PRGM_ACADEMICO'] = df['ESTU_PRGM_ACADEMICO'].apply(lambda x: 'INGENIERIA' if x.startswith('INGE') else x)\n",
        "  df['ESTU_PRGM_ACADEMICO'] = df['ESTU_PRGM_ACADEMICO'].apply(lambda x: 'LICENCIATURA' if x.startswith('LIC') or x.startswith('Lic') else x)\n",
        "  df['ESTU_PRGM_ACADEMICO'] = df['ESTU_PRGM_ACADEMICO'].apply(lambda x: 'ADMINISTRACION' if x.startswith('ADM')   else x)\n",
        "  df['ESTU_PRGM_ACADEMICO'] = df['ESTU_PRGM_ACADEMICO'].apply(lambda x: 'CONTADURIA' if x.startswith('CONT')   else x)\n",
        "  df['ESTU_PRGM_ACADEMICO'] = df['ESTU_PRGM_ACADEMICO'].apply(lambda x: 'COMUNICACION' if x.startswith('COMU')   else x)\n",
        "\n",
        "  df['ESTU_PRGM_ACADEMICO'] = df['ESTU_PRGM_ACADEMICO'].apply(lambda x: 'DEPORTE' if 'DEPORT'  in x else x)\n",
        "  df['ESTU_PRGM_ACADEMICO'] = df['ESTU_PRGM_ACADEMICO'].apply(lambda x: 'PSICOLOGIA' if 'PSIC' in x else x)\n",
        "  df['ESTU_PRGM_ACADEMICO'] = df['ESTU_PRGM_ACADEMICO'].apply(lambda x: 'TRABAJO SOCIAL' if 'TRABAJO SOCIAL' in x else x)\n",
        "  df['ESTU_PRGM_ACADEMICO'] = df['ESTU_PRGM_ACADEMICO'].apply(lambda x: 'DISEÑO' if 'DISE' in x else x)\n",
        "  df['ESTU_PRGM_ACADEMICO'] = df['ESTU_PRGM_ACADEMICO'].apply(lambda x: 'TERAPIA' if 'TERAP' in x else x)\n",
        "  df['ESTU_PRGM_ACADEMICO'] = df['ESTU_PRGM_ACADEMICO'].apply(lambda x: 'GASTRONOMIA' if 'GASTRON' in x else x)\n",
        "  df['ESTU_PRGM_ACADEMICO'] = df['ESTU_PRGM_ACADEMICO'].apply(lambda x: 'VETERINARIA Y ZOOTECNIA' if 'ZOOTECNIA' in x else x)\n",
        "  df['ESTU_PRGM_ACADEMICO'] = df['ESTU_PRGM_ACADEMICO'].apply(lambda x: 'NUTRICION' if 'NUTRIC' in x else x)\n",
        "  df['ESTU_PRGM_ACADEMICO'] = df['ESTU_PRGM_ACADEMICO'].apply(lambda x: 'MARKETING' if ( 'MARKETING' in x or 'PUBLICIDAD' in x or 'MERCAD' in x) else x)\n",
        "  df['ESTU_PRGM_ACADEMICO'] = df['ESTU_PRGM_ACADEMICO'].apply(lambda x: 'MATEMATICAS Y ESTADISTICA' if ('MATE' in x or 'ESTA' in x) else x)\n",
        "  df['ESTU_PRGM_ACADEMICO'] = df['ESTU_PRGM_ACADEMICO'].apply(lambda x: 'ARTES' if 'ARTE' in x else x)\n",
        "  df['ESTU_PRGM_ACADEMICO'] = df['ESTU_PRGM_ACADEMICO'].apply(lambda x: 'LITERATURA' if 'LITER' in x else x)\n",
        "  df['ESTU_PRGM_ACADEMICO'] = df['ESTU_PRGM_ACADEMICO'].apply(lambda x: 'MUSICA' if ('MUS' in x or 'MÚS' in x) else x)\n",
        "  df['ESTU_PRGM_ACADEMICO'] = df['ESTU_PRGM_ACADEMICO'].apply(lambda x: 'ECONOMIA Y NEGOCIOS' if ('ECONO' in x or 'NEG' in x or 'COME' in x or 'FIN' in x) else x)\n",
        "  df['ESTU_PRGM_ACADEMICO'] = df['ESTU_PRGM_ACADEMICO'].apply(lambda x: 'CIENCIAS DE LA TIERRA' if 'GEO' in x else x)\n",
        "  df['ESTU_PRGM_ACADEMICO'] = df['ESTU_PRGM_ACADEMICO'].apply(lambda x: 'CIENCIAS AUDIOVISUALES' if ('CINE' in x or 'RADIO' in x or 'TELEV' in x or 'AUDIOV' in x or 'FOTOG' in x) else x)\n",
        "  df['ESTU_PRGM_ACADEMICO'] = df['ESTU_PRGM_ACADEMICO'].apply(lambda x: 'DERECHO' if 'DERECHO' in x else x)\n",
        "  df['ESTU_PRGM_ACADEMICO'] = df['ESTU_PRGM_ACADEMICO'].apply(lambda x: 'CIENCIAS POLITICAS' if ( 'POLIT' in x or 'POLÍT' in x) else x)\n",
        "  df['ESTU_PRGM_ACADEMICO'] = df['ESTU_PRGM_ACADEMICO'].apply(lambda x: 'INGENIERIA' if 'INGE' in x else x)\n",
        "  df['ESTU_PRGM_ACADEMICO'] = df['ESTU_PRGM_ACADEMICO'].apply(lambda x: 'QUIMICA' if ('QUIM' in x or 'QUÍM' in x or 'QU¿M' in x) else x)\n",
        "  df['ESTU_PRGM_ACADEMICO'] = df['ESTU_PRGM_ACADEMICO'].apply(lambda x: 'CONSTRUCCION' if 'CONST' in x else x)\n",
        "  df['ESTU_PRGM_ACADEMICO'] = df['ESTU_PRGM_ACADEMICO'].apply(lambda x: 'TURISMO' if 'TURIS' in x else x)\n",
        "  df['ESTU_PRGM_ACADEMICO'] = df['ESTU_PRGM_ACADEMICO'].apply(lambda x: 'BIBLIOTECOLOGIA' if 'BIBLIO' in x else x)\n",
        "  df['ESTU_PRGM_ACADEMICO'] = df['ESTU_PRGM_ACADEMICO'].apply(lambda x: 'FILOSOFIA' if 'FILOS' in x else x)\n",
        "  df['ESTU_PRGM_ACADEMICO'] = df['ESTU_PRGM_ACADEMICO'].apply(lambda x: 'FILOLOGIA' if 'FILOL' in x else x)\n",
        "  df['ESTU_PRGM_ACADEMICO'] = df['ESTU_PRGM_ACADEMICO'].apply(lambda x: 'ODONTOLOGIA' if 'ODONTOLOG' in x else x)\n",
        "  df['ESTU_PRGM_ACADEMICO'] = df['ESTU_PRGM_ACADEMICO'].apply(lambda x: 'BIOLOGIA Y MICROBIOLOGIA' if 'BIOL' in x else x)\n",
        "  df['ESTU_PRGM_ACADEMICO'] = df['ESTU_PRGM_ACADEMICO'].apply(lambda x: 'ECOLOGIA' if x.startswith('ECOL')   else x)\n",
        "  df['ESTU_PRGM_ACADEMICO'] = df['ESTU_PRGM_ACADEMICO'].apply(lambda x: 'BACTERIOLOGIA' if 'BACT' in x else x)\n",
        "  df['ESTU_PRGM_ACADEMICO'] = df['ESTU_PRGM_ACADEMICO'].replace('ACUICULTURA', 'ACUICUlTURA')\n",
        "  df['ESTU_PRGM_ACADEMICO'] = df['ESTU_PRGM_ACADEMICO'].apply(lambda x: 'CIENCIAS CULTURALES' if 'CULT' in x else x)\n",
        "  df['ESTU_PRGM_ACADEMICO'] = df['ESTU_PRGM_ACADEMICO'].apply(lambda x: 'INSTRUMENTACION QUIRURGICA' if 'INSTRUMENTACION' in x else x)\n",
        "  df['ESTU_PRGM_ACADEMICO'] = df['ESTU_PRGM_ACADEMICO'].apply(lambda x: 'CIENCIAS MARITIMAS Y AERONAUTICAS' if ('MILIT' in x or 'NAVALES' in x or 'NAU' in x) else x)\n",
        "\n",
        "\n",
        "  # Calcula el conteo de cada valor en la columna 'ESTU_PRGM_ACADEMICO'\n",
        "  conteo_valores = df['ESTU_PRGM_ACADEMICO'].value_counts()\n",
        "\n",
        "  # Obtén los valores que tienen menos de N registros\n",
        "  valores_menos_de_20 = conteo_valores[conteo_valores <= 20]\n",
        "  valores_menos_de_20\n",
        "\n",
        "  # Reemplaza los valores que tienen menos de N registros con 'OTRO PROGRAMA'\n",
        "  for valor in valores_menos_de_20.index:\n",
        "      df.loc[df['ESTU_PRGM_ACADEMICO'] == valor, 'ESTU_PRGM_ACADEMICO'] = 'OTRO PROGRAMA'\n",
        "\n",
        "  df = pd.get_dummies(df, columns= [\"ESTU_PRGM_ACADEMICO\",\"ESTU_PRGM_DEPARTAMENTO\",\"FAMI_EDUCACIONPADRE\",\"FAMI_EDUCACIONMADRE\"])\n",
        "  df = df.astype(int)\n",
        "\n",
        "\n",
        "\n",
        "  return df\n"
      ],
      "metadata": {
        "id": "bUDp9e1nfQor"
      },
      "execution_count": 6,
      "outputs": []
    },
    {
      "cell_type": "markdown",
      "source": [],
      "metadata": {
        "id": "_YeyNIWvkXPL"
      }
    },
    {
      "cell_type": "code",
      "source": [
        "lentr = len(df_train)\n",
        "\n",
        "# Definir las columnas de origen, excluyendo la variable objetivo\n",
        "source_cols = [i for i in df_train.columns if i != \"RENDIMIENTO_GLOBAL\"]\n",
        "\n",
        "# Combinar los datos de entrenamiento y prueba para preprocesamiento\n",
        "all_data = pd.concat((df_train[source_cols], df_test[source_cols]))\n",
        "all_data.index = range(len(all_data))\n",
        "\n",
        "# Limpiar los datos usando la función clean_data\n",
        "all_data = clean_data(all_data)\n",
        "\n",
        "# Dividir los datos combinados nuevamente en conjuntos de entrenamiento y prueba\n",
        "Xtrain = all_data.iloc[:lentr].values\n",
        "ytrain = df_train[\"RENDIMIENTO_GLOBAL\"].values\n",
        "Xtest = all_data.iloc[lentr:].values\n",
        "\n",
        "# Imprimir las formas de los conjuntos de entrenamiento y prueba\n",
        "print(\"Forma de Xtrain:\", Xtrain.shape)\n",
        "print(\"Forma de ytrain:\", ytrain.shape)\n",
        "print(\"Forma de Xtest:\", Xtest.shape)"
      ],
      "metadata": {
        "colab": {
          "base_uri": "https://localhost:8080/"
        },
        "id": "X70OiA-UkXj7",
        "outputId": "f9a2001d-9e0a-4346-9364-fc1b93c8702f"
      },
      "execution_count": 7,
      "outputs": [
        {
          "output_type": "stream",
          "name": "stdout",
          "text": [
            "Forma de Xtrain: (692500, 165)\n",
            "Forma de ytrain: (692500,)\n",
            "Forma de Xtest: (296786, 165)\n"
          ]
        }
      ]
    },
    {
      "cell_type": "markdown",
      "source": [
        "**Entrenar el modelo**"
      ],
      "metadata": {
        "id": "f_7C2iK2k3x1"
      }
    },
    {
      "cell_type": "code",
      "source": [
        "# Importar las bibliotecas necesarias\n",
        "from sklearn.ensemble import RandomForestClassifier\n",
        "from sklearn.svm import SVC\n",
        "from sklearn.model_selection import cross_val_score\n",
        "\n",
        "# Definir el clasificador RandomForest\n",
        "rf = RandomForestClassifier()\n",
        "\n",
        "# Realizar validación cruzada en el conjunto de entrenamiento\n",
        "cv_scores = cross_val_score(rf, Xtrain, ytrain)\n",
        "print(\"Puntuaciones de validación cruzada:\", cv_scores)\n",
        "\n",
        "# Entrenar el clasificador en los datos de entrenamiento\n",
        "rf.fit(Xtrain, ytrain)\n",
        "\n",
        "# Predecir en el conjunto de prueba\n",
        "preds_ts = rf.predict(Xtest)\n",
        "print(\"Predicciones en el conjunto de prueba:\", preds_ts)\n"
      ],
      "metadata": {
        "colab": {
          "base_uri": "https://localhost:8080/"
        },
        "id": "QAtOcwfkkgYn",
        "outputId": "99f0cf8e-f1ff-4708-bc82-d110e8b7f4b4"
      },
      "execution_count": 8,
      "outputs": [
        {
          "output_type": "stream",
          "name": "stdout",
          "text": [
            "Puntuaciones de validación cruzada: [0.39116245 0.38922022 0.39030325 0.38979783 0.38930686]\n",
            "Predicciones en el conjunto de prueba: ['bajo' 'bajo' 'alto' ... 'medio-alto' 'alto' 'alto']\n"
          ]
        }
      ]
    },
    {
      "cell_type": "markdown",
      "source": [
        "**Creación de archivo con las variables necesarias**"
      ],
      "metadata": {
        "id": "OSwSNU7kk8JW"
      }
    },
    {
      "cell_type": "code",
      "execution_count": 9,
      "metadata": {
        "colab": {
          "base_uri": "https://localhost:8080/"
        },
        "id": "BYNCJb0dop80",
        "outputId": "0bf781a0-771c-4b5f-fcfe-570e3deac554"
      },
      "outputs": [
        {
          "output_type": "stream",
          "name": "stdout",
          "text": [
            "       ID RENDIMIENTO_GLOBAL\n",
            "0  550236               bajo\n",
            "1   98545               bajo\n",
            "2  499179               alto\n",
            "3  782980         medio-bajo\n",
            "4  785185         medio-bajo\n",
            "*************** Crear archivo ************\n"
          ]
        }
      ],
      "source": [
        "# Crear un DataFrame de envío con el ID y los valores predichos\n",
        "submission = pd.DataFrame({\n",
        "    \"ID\": df_test.ID,\n",
        "    \"RENDIMIENTO_GLOBAL\": preds_ts\n",
        "})\n",
        "\n",
        "# Mostrar las primeras filas del DataFrame de envío\n",
        "print(submission.head())\n",
        "\n",
        "# Guardar el DataFrame de envío en un archivo CSV\n",
        "print(\"*************** Crear archivo ************\")\n",
        "submission.to_csv(\"archivo_final.csv\", index=False)"
      ]
    },
    {
      "cell_type": "code",
      "execution_count": null,
      "metadata": {
        "id": "O_A9kkL4op52"
      },
      "outputs": [],
      "source": []
    }
  ],
  "metadata": {
    "colab": {
      "machine_shape": "hm",
      "provenance": []
    },
    "kernelspec": {
      "display_name": "Python 3",
      "name": "python3"
    },
    "language_info": {
      "name": "python"
    }
  },
  "nbformat": 4,
  "nbformat_minor": 0
}